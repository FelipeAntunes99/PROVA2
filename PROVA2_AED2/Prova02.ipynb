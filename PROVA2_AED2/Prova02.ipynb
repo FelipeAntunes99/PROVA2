{
 "cells": [
  {
   "cell_type": "code",
   "execution_count": 22,
   "id": "5f61bb84-f1d1-448b-86da-a10ae9faed50",
   "metadata": {},
   "outputs": [
    {
     "name": "stdout",
     "output_type": "stream",
     "text": [
      "Lista original: [29, 10, 14, 37, 13]\n",
      "Lista ordenada: [10, 13, 14, 29, 37]\n",
      "Maior elemento: 37\n"
     ]
    }
   ],
   "source": [
    "def selection_sort(arr):\n",
    "    for i in range(len(arr)):\n",
    "        min_idx = i\n",
    "        for j in range(i + 1, len(arr)):\n",
    "            if arr[j] < arr[min_idx]:\n",
    "                min_idx = j\n",
    "        arr[i], arr[min_idx] = arr[min_idx], arr[i]\n",
    "    return arr\n",
    "\n",
    "def find_max(lista_ordenada):\n",
    "    return lista_ordenada[-1]\n",
    "\n",
    "sorted_list = selection_sort(lista.copy())\n",
    "\n",
    "# Lista de exemplo\n",
    "lista = [29, 10, 14, 37, 13]\n",
    "print(\"Lista original:\", lista)\n",
    "print(\"Lista ordenada:\", sorted_list)\n",
    "print(\"Maior elemento:\", find_max(sorted_list))"
   ]
  },
  {
   "cell_type": "code",
   "execution_count": null,
   "id": "4fcdc18d-80ab-4cb4-a235-516a287e9adb",
   "metadata": {},
   "outputs": [],
   "source": []
  }
 ],
 "metadata": {
  "kernelspec": {
   "display_name": "Python [conda env:base] *",
   "language": "python",
   "name": "conda-base-py"
  },
  "language_info": {
   "codemirror_mode": {
    "name": "ipython",
    "version": 3
   },
   "file_extension": ".py",
   "mimetype": "text/x-python",
   "name": "python",
   "nbconvert_exporter": "python",
   "pygments_lexer": "ipython3",
   "version": "3.12.7"
  }
 },
 "nbformat": 4,
 "nbformat_minor": 5
}
